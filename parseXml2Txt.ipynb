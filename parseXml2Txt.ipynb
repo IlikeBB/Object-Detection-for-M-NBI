{
 "cells": [
  {
   "cell_type": "code",
   "execution_count": 4,
   "metadata": {},
   "outputs": [
    {
     "name": "stdout",
     "output_type": "stream",
     "text": [
      "{'vehicle': 0, 'pedestrian': 1, 'rider': 2}\n",
      "xmin=0 ymin=883 xman=-418 ymax=903  \n",
      "xmin=0 ymin=724 xman=-96 ymax=813  \n",
      "xmin=0 ymin=824 xman=-272 ymax=862  \n",
      "xmin=0 ymin=808 xman=-319 ymax=862  \n",
      "xmin=0 ymin=739 xman=-220 ymax=832  \n",
      "xmin=0 ymin=904 xman=-439 ymax=924  \n",
      "xmin=0 ymin=905 xman=-432 ymax=925  \n",
      "xmin=0 ymin=775 xman=-272 ymax=848  \n",
      "xmin=0 ymin=863 xman=-393 ymax=887  \n",
      "xmin=0 ymin=658 xman=-81 ymax=795  \n",
      "xmin=0 ymin=838 xman=-359 ymax=876  \n",
      "xmin=0 ymin=699 xman=-163 ymax=814  \n",
      "xmin=0 ymin=858 xman=-334 ymax=879  \n",
      "xmin=0 ymin=290 xman=-59 ymax=386  \n",
      "xmin=0 ymin=779 xman=-193 ymax=840  \n",
      "xmin=0 ymin=898 xman=-414 ymax=918  \n",
      "xmin=0 ymin=897 xman=-433 ymax=917  \n",
      "xmin=0 ymin=882 xman=-381 ymax=902  \n"
     ]
    }
   ],
   "source": [
    "import os, pdb\n",
    "import xmltodict\n",
    "import xml.etree.ElementTree as ET\n",
    "\n",
    "with open('id.txt', 'r', encoding='utf-8') as fp:\n",
    "    data = fp.readlines()\n",
    "len1 = len(data)\n",
    "maps = dict()\n",
    "for i in range(len1):\n",
    "    t1 = data[i].strip('\\n')\n",
    "    maps.update({t1:i})\n",
    "\n",
    "print(maps)\n",
    "\n",
    "prefix='/home/jess/data/creDa_train/Annotations/'\n",
    "prefix2='/home/jess/data/creDa_train/JPEGImages/'\n",
    "\n",
    "dirx = os.listdir(prefix)\n",
    "train_len = len(dirx)\n",
    "\n",
    "fp = open('train.txt', 'w')\n",
    "def db(val, xy):\n",
    "    val = int(val)\n",
    "    if xy==0:\n",
    "        if val<0 or val>1920:\n",
    "            return True\n",
    "        else:\n",
    "            return False\n",
    "    else:\n",
    "        if val<0 or val>1080:\n",
    "            return True\n",
    "        else:\n",
    "            return False\n",
    "    \n",
    "for i in range(train_len):\n",
    "    dx2 = prefix+dirx[i]\n",
    "   \n",
    "    if dx2[-4:] != '.xml':\n",
    "        continue\n",
    "    tree = ET.ElementTree(file=prefix+dirx[i])\n",
    "    fn = tree.findtext('filename')\n",
    "    objs = tree.findall('object')\n",
    "    p1=prefix2+dirx[i].replace('xml','jpg')\n",
    "    if not os.path.exists(p1):\n",
    "        continue\n",
    "    fp.write( p1+' ')\n",
    "    for j in range(len(objs)):\n",
    "        n1 =  objs[j].findtext('name')\n",
    "        xmin= objs[j].find('bndbox').findtext('xmin')\n",
    "        ymin= objs[j].find('bndbox').findtext('ymin')\n",
    "        xmax= objs[j].find('bndbox').findtext('xmax')\n",
    "        ymax= objs[j].find('bndbox').findtext('ymax')\n",
    "        if db(xmin,0) or db(xmax,0) or db(ymin,1) or db(ymax,1):\n",
    "            print(\"xmin=%s ymin=%s xman=%s ymax=%s  \" % (xmin, ymin, xmax, ymax))\n",
    "        else:\n",
    "            fp.write(\"%s %s %s %s %d \" % (xmin, ymin, xmax, ymax, maps[n1]))\n",
    "    fp.write('\\n')\n",
    "\n",
    "fp.close()\n",
    "\n"
   ]
  },
  {
   "cell_type": "code",
   "execution_count": 2,
   "metadata": {},
   "outputs": [
    {
     "name": "stdout",
     "output_type": "stream",
     "text": [
      "{'vehicle': 0, 'pedestrian': 1, 'rider': 2}\n"
     ]
    }
   ],
   "source": [
    "import os, pdb\n",
    "import xmltodict\n",
    "import xml.etree.ElementTree as ET\n",
    "\n",
    "with open('id.txt', 'r', encoding='utf-8') as fp:\n",
    "    data = fp.readlines()\n",
    "len1 = len(data)\n",
    "maps = dict()\n",
    "for i in range(len1):\n",
    "    t1 = data[i].strip('\\n')\n",
    "    maps.update({t1:i})\n",
    "\n",
    "print(maps)"
   ]
  }
 ],
 "metadata": {
  "kernelspec": {
   "display_name": "Python 3",
   "language": "python",
   "name": "python3"
  },
  "language_info": {
   "codemirror_mode": {
    "name": "ipython",
    "version": 3
   },
   "file_extension": ".py",
   "mimetype": "text/x-python",
   "name": "python",
   "nbconvert_exporter": "python",
   "pygments_lexer": "ipython3",
   "version": "3.6.8"
  }
 },
 "nbformat": 4,
 "nbformat_minor": 2
}
