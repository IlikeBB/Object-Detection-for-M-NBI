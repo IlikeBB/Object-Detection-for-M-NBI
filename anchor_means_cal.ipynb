{
 "cells": [
  {
   "cell_type": "code",
   "execution_count": 2,
   "metadata": {},
   "outputs": [
    {
     "ename": "ImportError",
     "evalue": "cannot import name 'avg_iou'",
     "output_type": "error",
     "traceback": [
      "\u001b[0;31m---------------------------------------------------------------------------\u001b[0m",
      "\u001b[0;31mImportError\u001b[0m                               Traceback (most recent call last)",
      "\u001b[0;32m<ipython-input-2-96c48627e060>\u001b[0m in \u001b[0;36m<module>\u001b[0;34m\u001b[0m\n\u001b[1;32m      4\u001b[0m \u001b[0;32mimport\u001b[0m \u001b[0mnumpy\u001b[0m \u001b[0;32mas\u001b[0m \u001b[0mnp\u001b[0m\u001b[0;34m\u001b[0m\u001b[0;34m\u001b[0m\u001b[0m\n\u001b[1;32m      5\u001b[0m \u001b[0;34m\u001b[0m\u001b[0m\n\u001b[0;32m----> 6\u001b[0;31m \u001b[0;32mfrom\u001b[0m \u001b[0mkmeans\u001b[0m \u001b[0;32mimport\u001b[0m \u001b[0mkmeans\u001b[0m\u001b[0;34m,\u001b[0m \u001b[0mavg_iou\u001b[0m\u001b[0;34m\u001b[0m\u001b[0;34m\u001b[0m\u001b[0m\n\u001b[0m\u001b[1;32m      7\u001b[0m \u001b[0;34m\u001b[0m\u001b[0m\n\u001b[1;32m      8\u001b[0m \u001b[0mANNOTATIONS_PATH\u001b[0m \u001b[0;34m=\u001b[0m \u001b[0;34m\"/ssd3/u1/NBI_NET/train_img/Annotations\"\u001b[0m\u001b[0;34m\u001b[0m\u001b[0;34m\u001b[0m\u001b[0m\n",
      "\u001b[0;31mImportError\u001b[0m: cannot import name 'avg_iou'"
     ]
    }
   ],
   "source": [
    "\n",
    "import glob\n",
    "import xml.etree.ElementTree as ET\n",
    " \n",
    "import numpy as np\n",
    " \n",
    "from kmeans import kmeans, avg_iou\n",
    " \n",
    "ANNOTATIONS_PATH = \"/ssd3/u1/NBI_NET/models/research/object_detection/images/trainval_01\"\n",
    "CLUSTERS = 9\n",
    " \n",
    " \n",
    "def load_dataset(path):\n",
    "  dataset = []\n",
    "  for xml_file in glob.glob(\"{}/*xml\".format(path)):\n",
    "    tree = ET.parse(xml_file)\n",
    " \n",
    "    height = int(tree.findtext(\"./size/height\"))\n",
    "    width = int(tree.findtext(\"./size/width\"))\n",
    " \n",
    "    for obj in tree.iter(\"object\"):\n",
    "      xmin = int(obj.findtext(\"bndbox/xmin\")) / width\n",
    "      ymin = int(obj.findtext(\"bndbox/ymin\")) / height\n",
    "      xmax = int(obj.findtext(\"bndbox/xmax\")) / width\n",
    "      ymax = int(obj.findtext(\"bndbox/ymax\")) / height\n",
    " \n",
    "      xmin = np.float64(xmin)\n",
    "      ymin = np.float64(ymin)\n",
    "      xmax = np.float64(xmax)\n",
    "      ymax = np.float64(ymax)\n",
    "      if xmax == xmin or ymax == ymin:\n",
    "         print(xml_file)\n",
    "      dataset.append([xmax - xmin, ymax - ymin])\n",
    "  return np.array(dataset)\n",
    " \n",
    "if __name__ == '__main__':\n",
    "  #print(__file__)\n",
    "  data = load_dataset(ANNOTATIONS_PATH)\n",
    "  out = kmeans(data, k=CLUSTERS)\n",
    "  #clusters = [[10,13],[16,30],[33,23],[30,61],[62,45],[59,119],[116,90],[156,198],[373,326]]\n",
    "  #out= np.array(clusters)/416.0\n",
    "  print(out)\n",
    "  print(\"Accuracy: {:.2f}%\".format(avg_iou(data, out) * 100))\n",
    "  print(\"Boxes:\\n {}-{}\".format(out[:, 0]*416, out[:, 1]*416))\n",
    " \n",
    "  ratios = np.around(out[:, 0] / out[:, 1], decimals=2).tolist()\n",
    "  print(\"Ratios:\\n {}\".format(sorted(ratios)))"
   ]
  },
  {
   "cell_type": "code",
   "execution_count": null,
   "metadata": {},
   "outputs": [],
   "source": []
  }
 ],
 "metadata": {
  "kernelspec": {
   "display_name": "Python 3",
   "language": "python",
   "name": "python3"
  },
  "language_info": {
   "codemirror_mode": {
    "name": "ipython",
    "version": 3
   },
   "file_extension": ".py",
   "mimetype": "text/x-python",
   "name": "python",
   "nbconvert_exporter": "python",
   "pygments_lexer": "ipython3",
   "version": "3.6.9"
  }
 },
 "nbformat": 4,
 "nbformat_minor": 2
}
